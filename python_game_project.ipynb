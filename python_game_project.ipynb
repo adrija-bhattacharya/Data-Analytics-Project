{
 "cells": [
  {
   "cell_type": "code",
   "execution_count": null,
   "id": "6fe16446-107b-4081-8600-785d7ab70f02",
   "metadata": {},
   "outputs": [
    {
     "name": "stdout",
     "output_type": "stream",
     "text": [
      "Hey there!\n",
      "Let's play a game – you have to guess the number I'm thinking of!\n",
      "It's between 1 and 100. Let's see how smart you are\n"
     ]
    },
    {
     "name": "stdin",
     "output_type": "stream",
     "text": [
      "Your guess:  50\n"
     ]
    },
    {
     "name": "stdout",
     "output_type": "stream",
     "text": [
      "Too high! Try something smaller.\n"
     ]
    },
    {
     "name": "stdin",
     "output_type": "stream",
     "text": [
      "Your guess:  75\n"
     ]
    },
    {
     "name": "stdout",
     "output_type": "stream",
     "text": [
      "Too high! Try something smaller.\n"
     ]
    },
    {
     "name": "stdin",
     "output_type": "stream",
     "text": [
      "Your guess:  66\n"
     ]
    },
    {
     "name": "stdout",
     "output_type": "stream",
     "text": [
      "Too high! Try something smaller.\n"
     ]
    },
    {
     "name": "stdin",
     "output_type": "stream",
     "text": [
      "Your guess:  30\n"
     ]
    },
    {
     "name": "stdout",
     "output_type": "stream",
     "text": [
      "Too high! Try something smaller.\n"
     ]
    }
   ],
   "source": [
    "import random  \n",
    "\n",
    "print(\"Hey there!\")\n",
    "print(\"Let's play a game – you have to guess the number I'm thinking of!\")\n",
    "print(\"It's between 1 and 100. Let's see how smart you are\")\n",
    "\n",
    "secret_number = random.randint(1, 100)\n",
    "\n",
    "tries = 0\n",
    "\n",
    "while True:\n",
    "    guess = input(\"Your guess: \")\n",
    "\n",
    "    if not guess.isdigit():\n",
    "        print(\"Oops! Please enter a number (not letters). Try again!\")\n",
    "        continue\n",
    "\n",
    "    guess = int(guess)\n",
    "    tries += 1\n",
    "\n",
    "    if guess < secret_number:\n",
    "        print(\"Too low! Try a bigger number.\")\n",
    "    elif guess > secret_number:\n",
    "        print(\"Too high!Try something smaller.\")\n",
    "    \n",
    "     print(f\"Yayyy!!You got it in {tries} tries!\")\n",
    "        break  \n"
   ]
  },
  {
   "cell_type": "code",
   "execution_count": null,
   "id": "6a8ba898-790a-4ad2-a950-18edf990390f",
   "metadata": {},
   "outputs": [],
   "source": []
  }
 ],
 "metadata": {
  "kernelspec": {
   "display_name": "Python 3 (ipykernel)",
   "language": "python",
   "name": "python3"
  },
  "language_info": {
   "codemirror_mode": {
    "name": "ipython",
    "version": 3
   },
   "file_extension": ".py",
   "mimetype": "text/x-python",
   "name": "python",
   "nbconvert_exporter": "python",
   "pygments_lexer": "ipython3",
   "version": "3.12.4"
  }
 },
 "nbformat": 4,
 "nbformat_minor": 5
}
